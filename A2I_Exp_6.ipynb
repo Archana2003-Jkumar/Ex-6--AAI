{
  "nbformat": 4,
  "nbformat_minor": 0,
  "metadata": {
    "colab": {
      "provenance": [],
      "authorship_tag": "ABX9TyNjE31yIp9Vu6qJdEkDdcQw",
      "include_colab_link": true
    },
    "kernelspec": {
      "name": "python3",
      "display_name": "Python 3"
    },
    "language_info": {
      "name": "python"
    }
  },
  "cells": [
    {
      "cell_type": "markdown",
      "metadata": {
        "id": "view-in-github",
        "colab_type": "text"
      },
      "source": [
        "<a href=\"https://colab.research.google.com/github/Shavedha/Ex-6-App-AI/blob/main/A2I_Exp_6.ipynb\" target=\"_parent\"><img src=\"https://colab.research.google.com/assets/colab-badge.svg\" alt=\"Open In Colab\"/></a>"
      ]
    },
    {
      "cell_type": "code",
      "source": [
        "import nltk\n",
        "from nltk.corpus import wordnet\n",
        "\n",
        "nltk.download('punkt')\n",
        "nltk.download('averaged_perceptron_tagger')\n",
        "nltk.download('wordnet')\n",
        "\n",
        "def get_synonyms(word):\n",
        "    synonyms = set()\n",
        "    for syn in wordnet.synsets(word):\n",
        "        for lemma in syn.lemmas():\n",
        "            synonyms.add(lemma.name())\n",
        "    return synonyms\n",
        "\n",
        "def process_text_file(file_path):\n",
        "    with open(file_path, 'r') as file:\n",
        "        text = file.read()\n",
        "    return text  # Return the processed text\n",
        "\n",
        "text = process_text_file('/content/sample.txt')\n",
        "\n",
        "# Tokenize the text into sentences\n",
        "sentences = nltk.sent_tokenize(text)\n",
        "\n",
        "for sentence in sentences:\n",
        "    # Tokenize each sentence into words\n",
        "    words = nltk.word_tokenize(sentence)\n",
        "\n",
        "    # Perform part-of-speech tagging\n",
        "    pos_tags = nltk.pos_tag(words)\n",
        "\n",
        "    # Extract verbs\n",
        "    verbs = [word for word, pos in pos_tags if pos.startswith('V')]\n",
        "\n",
        "    # Get synonyms for each verb\n",
        "    for verb in verbs:\n",
        "        synonyms = get_synonyms(verb)\n",
        "        print(f\"Verb: {verb}\")\n",
        "        print(f\"Synonyms: {', '.join(synonyms)}\\n\")"
      ],
      "metadata": {
        "colab": {
          "base_uri": "https://localhost:8080/"
        },
        "id": "yOe1ThJkn0Ci",
        "outputId": "44acd7ce-b6fd-4a49-85de-384868fde563"
      },
      "execution_count": 7,
      "outputs": [
        {
          "output_type": "stream",
          "name": "stderr",
          "text": [
            "[nltk_data] Downloading package punkt to /root/nltk_data...\n",
            "[nltk_data]   Package punkt is already up-to-date!\n",
            "[nltk_data] Downloading package averaged_perceptron_tagger to\n",
            "[nltk_data]     /root/nltk_data...\n",
            "[nltk_data]   Package averaged_perceptron_tagger is already up-to-\n",
            "[nltk_data]       date!\n",
            "[nltk_data] Downloading package wordnet to /root/nltk_data...\n",
            "[nltk_data]   Package wordnet is already up-to-date!\n"
          ]
        },
        {
          "output_type": "stream",
          "name": "stdout",
          "text": [
            "Verb: nestled\n",
            "Synonyms: cuddle, nestled, snuggled, nest, draw_close, snuggle, nestle, nuzzle\n",
            "\n",
            "Verb: named\n",
            "Synonyms: distinguish, bring_up, call, refer, describe, name, advert, make, appoint, mention, key_out, cite, nominate, constitute, key, identify, discover, diagnose, list\n",
            "\n",
            "Verb: ran\n",
            "Synonyms: function, carry, work, scarper, melt, track_down, black_market, bunk, turn_tail, go, lead, pass, feed, guide, consort, range, flow, be_given, prevail, campaign, course, hunt, run, ladder, play, persist, break_away, race, operate, incline, take_to_the_woods, endure, hunt_down, run_for, lam, run_away, execute, draw, hightail_it, extend, melt_down, bleed, fly_the_coop, move, die_hard, scat, ply, tend, escape, head_for_the_hills, lean, unravel\n",
            "\n",
            "Verb: had\n",
            "Synonyms: induce, sustain, throw, possess, take_in, ingest, give_birth, deliver, let, bear, stimulate, consume, cause, feature, have_got, make, give, birth, take, suffer, own, get, accept, receive, experience, hold, have\n",
            "\n",
            "Verb: found\n",
            "Synonyms: establish, regain, chance, find_oneself, observe, obtain, encounter, detect, notice, line_up, find_out, witness, base, feel, bump, ascertain, plant, happen, retrieve, launch, find, come_up, institute, constitute, incur, found, get, set_up, discover, receive, recover, get_hold, ground, determine, rule, see\n",
            "\n",
            "Verb: glimmering\n",
            "Synonyms: glimmering, inkling, intimation, gleam, glimmer\n",
            "\n",
            "Verb: Is\n",
            "Synonyms: constitute, embody, equal, make_up, comprise, exist, represent, be, cost, personify, live, follow\n",
            "\n",
            "Verb: beautiful\n",
            "Synonyms: beautiful\n",
            "\n",
            "Verb: whispered\n",
            "Synonyms: whispered, whisper\n",
            "\n",
            "Verb: gazed\n",
            "Synonyms: stare, gaze\n",
            "\n",
            "Verb: decided\n",
            "Synonyms: distinct, settle, decide, make_up_one's_mind, decided, determine, resolve, adjudicate\n",
            "\n",
            "Verb: explore\n",
            "Synonyms: explore, search, research\n",
            "\n",
            "Verb: followed\n",
            "Synonyms: keep_abreast, keep_up, watch_over, observe, play_along, abide_by, surveil, adopt, survey, succeed, fall_out, follow, travel_along, come_after, watch, keep_an_eye_on, accompany, espouse, conform_to, come, postdate, comply, trace, pursue, stick_to, be, take_after, stick_with\n",
            "\n",
            "Verb: encountering\n",
            "Synonyms: run_across, chance, run_into, see, happen, play, take_on, receive, meet, find, bump, encounter, come_across\n",
            "\n",
            "Verb: rustling\n",
            "Synonyms: murmurous, soughing, susurrous, whispering, rustle, whisper, lift, rustling\n",
            "\n",
            "Verb: discovered\n",
            "Synonyms: pick_up, chance_upon, get_wind, distinguish, observe, get_word, detect, notice, strike, let_out, find_out, describe, fall_upon, hear, ascertained, name, attain, learn, reveal, discovered, light_upon, divulge, happen_upon, observed, come_upon, key_out, give_away, find, come_across, chance_on, key, let_on, identify, discover, unwrap, get_a_line, break, expose, see, bring_out, disclose\n",
            "\n",
            "Verb: danced\n",
            "Synonyms: dance, trip_the_light_fantastic, trip_the_light_fantastic_toe\n",
            "\n",
            "Verb: awaited\n",
            "Synonyms: expect, await, wait, look, hoped-for, anticipated, awaited\n",
            "\n",
            "Verb: sparking\n",
            "Synonyms: actuate, trip, spark, set_off, touch_off, activate, spark_off, trigger, sparkle, trigger_off\n",
            "\n"
          ]
        }
      ]
    }
  ]
}